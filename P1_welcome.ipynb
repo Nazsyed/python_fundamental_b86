{
 "cells": [
  {
   "cell_type": "code",
   "execution_count": 1,
   "id": "885a4ee2-9a12-4556-8e75-ab88b7144b62",
   "metadata": {},
   "outputs": [
    {
     "name": "stdout",
     "output_type": "stream",
     "text": [
      "Welcome to Python Fundamentals Course\n"
     ]
    }
   ],
   "source": [
    "#p1 Welcome program\n",
    "print (\"Welcome to Python Fundamentals Course\")"
   ]
  },
  {
   "cell_type": "code",
   "execution_count": null,
   "id": "db68a8f4-1e75-42a3-919f-450fbdb3ca62",
   "metadata": {},
   "outputs": [],
   "source": []
  }
 ],
 "metadata": {
  "kernelspec": {
   "display_name": "Python 3 (ipykernel)",
   "language": "python",
   "name": "python3"
  },
  "language_info": {
   "codemirror_mode": {
    "name": "ipython",
    "version": 3
   },
   "file_extension": ".py",
   "mimetype": "text/x-python",
   "name": "python",
   "nbconvert_exporter": "python",
   "pygments_lexer": "ipython3",
   "version": "3.11.7"
  }
 },
 "nbformat": 4,
 "nbformat_minor": 5
}
