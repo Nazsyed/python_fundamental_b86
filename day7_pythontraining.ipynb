{
 "cells": [
  {
   "cell_type": "code",
   "execution_count": 1,
   "id": "dec0e5ee-03be-4241-a888-b3e55de1f9db",
   "metadata": {},
   "outputs": [],
   "source": [
    "# introduction to tuple datatypes"
   ]
  },
  {
   "cell_type": "code",
   "execution_count": 3,
   "id": "4d6ae822-369d-4980-b911-2e1d1d92348d",
   "metadata": {},
   "outputs": [],
   "source": [
    "# definition: an immutable list is called a tuple\n",
    "# classification: immutable data type\n",
    "# how to define: normal brackets ()\n"
   ]
  },
  {
   "cell_type": "code",
   "execution_count": 5,
   "id": "8f5bc47e-7b2b-468d-865c-9a50724f9198",
   "metadata": {},
   "outputs": [],
   "source": [
    "students = ('ramesh','vishal','keerthi','pranavi','joseph','abdul')"
   ]
  },
  {
   "cell_type": "code",
   "execution_count": 7,
   "id": "3c854f68-eab7-4a6e-86fa-6c6dffb5e268",
   "metadata": {},
   "outputs": [
    {
     "name": "stdout",
     "output_type": "stream",
     "text": [
      "('ramesh', 'vishal', 'keerthi', 'pranavi', 'joseph', 'abdul')\n"
     ]
    }
   ],
   "source": [
    "print(students)"
   ]
  },
  {
   "cell_type": "code",
   "execution_count": 9,
   "id": "6489414a-54cf-412d-ad0a-1556158bfc57",
   "metadata": {},
   "outputs": [
    {
     "data": {
      "text/plain": [
       "tuple"
      ]
     },
     "execution_count": 9,
     "metadata": {},
     "output_type": "execute_result"
    }
   ],
   "source": [
    "type(students)"
   ]
  },
  {
   "cell_type": "code",
   "execution_count": 13,
   "id": "8fd5f4b7-b3bb-4dd3-bf00-4028b489b65a",
   "metadata": {},
   "outputs": [
    {
     "name": "stdout",
     "output_type": "stream",
     "text": [
      "ramesh\n"
     ]
    }
   ],
   "source": [
    "###difference between list and tuple is ==> list []  and tuple ()\n",
    "###  tuple cannot be edited or modified \n",
    "print(students[0])\n"
   ]
  },
  {
   "cell_type": "code",
   "execution_count": 15,
   "id": "f1050c69-fcce-452c-9c48-28e2bcd1a9a0",
   "metadata": {},
   "outputs": [
    {
     "ename": "TypeError",
     "evalue": "'tuple' object does not support item assignment",
     "output_type": "error",
     "traceback": [
      "\u001b[1;31m---------------------------------------------------------------------------\u001b[0m",
      "\u001b[1;31mTypeError\u001b[0m                                 Traceback (most recent call last)",
      "Cell \u001b[1;32mIn[15], line 1\u001b[0m\n\u001b[1;32m----> 1\u001b[0m students[\u001b[38;5;241m0\u001b[39m] \u001b[38;5;241m=\u001b[39m \u001b[38;5;124m'\u001b[39m\u001b[38;5;124msuresh\u001b[39m\u001b[38;5;124m'\u001b[39m\n",
      "\u001b[1;31mTypeError\u001b[0m: 'tuple' object does not support item assignment"
     ]
    }
   ],
   "source": [
    "students[0] = 'suresh'"
   ]
  },
  {
   "cell_type": "code",
   "execution_count": 17,
   "id": "ca3e9930-40b7-48af-996b-572d2839ccb7",
   "metadata": {},
   "outputs": [],
   "source": [
    "###tuple object cannot be modified"
   ]
  },
  {
   "cell_type": "code",
   "execution_count": 19,
   "id": "c8ca78db-e2c9-46aa-824a-15bb33705afe",
   "metadata": {},
   "outputs": [],
   "source": [
    "dimensions = (200,50) "
   ]
  },
  {
   "cell_type": "code",
   "execution_count": 21,
   "id": "0de94ca1-ca5c-4aa9-a58d-a920c2a967a0",
   "metadata": {},
   "outputs": [],
   "source": [
    "### dimension is length and breadth"
   ]
  },
  {
   "cell_type": "code",
   "execution_count": 23,
   "id": "73f4c3c9-d79c-4c56-8c8c-a4295d8805d4",
   "metadata": {},
   "outputs": [
    {
     "name": "stdout",
     "output_type": "stream",
     "text": [
      "ramesh\n",
      "vishal\n",
      "keerthi\n",
      "pranavi\n",
      "joseph\n",
      "abdul\n"
     ]
    }
   ],
   "source": [
    "for a in students:\n",
    "    print(a)"
   ]
  },
  {
   "cell_type": "code",
   "execution_count": 25,
   "id": "d780461f-7743-458a-9b7e-12c7be2d8e1c",
   "metadata": {},
   "outputs": [
    {
     "name": "stdout",
     "output_type": "stream",
     "text": [
      "ramesh\n",
      "vishal\n",
      "keerthi\n",
      "pranavi\n",
      "joseph\n",
      "abdul\n"
     ]
    }
   ],
   "source": [
    "for b in students:\n",
    "    print(b)"
   ]
  },
  {
   "cell_type": "code",
   "execution_count": 31,
   "id": "ddac77b7-008e-498b-8f5b-fcd9e87a2370",
   "metadata": {},
   "outputs": [],
   "source": [
    "#note: indentation is to add gap to next line which is required . if not present Indentation\n",
    "###error will be displayed"
   ]
  },
  {
   "cell_type": "code",
   "execution_count": 35,
   "id": "f2b62c99-94e3-4f17-b892-7f909811e9c7",
   "metadata": {},
   "outputs": [],
   "source": [
    "### introduction to dictionaries ** most of the data will be coming in dictionary format\n",
    "###definition: a dictionary is a combination of key/value based\n",
    "### classification: it is classified as a mutable datatype\n",
    "###how to define a dictionary:  by using flower {} braces"
   ]
  },
  {
   "cell_type": "code",
   "execution_count": 37,
   "id": "807d006c-be43-444d-99b2-45e2fb8b6df8",
   "metadata": {},
   "outputs": [],
   "source": [
    "###req:  create an alien game "
   ]
  },
  {
   "cell_type": "code",
   "execution_count": 43,
   "id": "3a447134-5a1d-451d-98a3-6cd90eafdd90",
   "metadata": {},
   "outputs": [],
   "source": [
    "alien = {'color':'green', 'points':5}"
   ]
  },
  {
   "cell_type": "code",
   "execution_count": 45,
   "id": "794ab187-bfff-4141-84ed-e3b7a44aee71",
   "metadata": {},
   "outputs": [
    {
     "name": "stdout",
     "output_type": "stream",
     "text": [
      "green\n"
     ]
    }
   ],
   "source": [
    "print(alien['color'])"
   ]
  },
  {
   "cell_type": "code",
   "execution_count": 47,
   "id": "8517eaff-9629-4d28-931e-09931820b9af",
   "metadata": {},
   "outputs": [
    {
     "ename": "KeyError",
     "evalue": "5",
     "output_type": "error",
     "traceback": [
      "\u001b[1;31m---------------------------------------------------------------------------\u001b[0m",
      "\u001b[1;31mKeyError\u001b[0m                                  Traceback (most recent call last)",
      "Cell \u001b[1;32mIn[47], line 1\u001b[0m\n\u001b[1;32m----> 1\u001b[0m \u001b[38;5;28mprint\u001b[39m(alien[\u001b[38;5;241m5\u001b[39m])\n",
      "\u001b[1;31mKeyError\u001b[0m: 5"
     ]
    }
   ],
   "source": [
    "print(alien[5])"
   ]
  },
  {
   "cell_type": "code",
   "execution_count": null,
   "id": "0fb9c700-baa7-458a-9dc4-fad9dd9281ac",
   "metadata": {},
   "outputs": [],
   "source": [
    "### From a dictionary we can get the key providing the value pair \n",
    "####but we can get the value for a given key as shown above"
   ]
  }
 ],
 "metadata": {
  "kernelspec": {
   "display_name": "Python 3 (ipykernel)",
   "language": "python",
   "name": "python3"
  },
  "language_info": {
   "codemirror_mode": {
    "name": "ipython",
    "version": 3
   },
   "file_extension": ".py",
   "mimetype": "text/x-python",
   "name": "python",
   "nbconvert_exporter": "python",
   "pygments_lexer": "ipython3",
   "version": "3.11.7"
  }
 },
 "nbformat": 4,
 "nbformat_minor": 5
}
