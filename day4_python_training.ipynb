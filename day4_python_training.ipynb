{
 "cells": [
  {
   "cell_type": "code",
   "execution_count": 1,
   "id": "ad1b9854-7eab-49f7-bd9a-f77a3497fd2f",
   "metadata": {},
   "outputs": [],
   "source": [
    "#introduction to list datatype\n",
    "#introduction to indexing\n",
    "# definition: list is a collections of items declared in a particular way\n",
    "# classification: Mutable\n",
    "# list datatype is declared as []\n",
    "# indexing starts from 0\n"
   ]
  },
  {
   "cell_type": "code",
   "execution_count": 5,
   "id": "5af79c3b-8a86-43f0-9bca-e23e771a88a7",
   "metadata": {},
   "outputs": [
    {
     "name": "stdout",
     "output_type": "stream",
     "text": [
      "['roshini', 'Abdul', 'Kareem', 'Joseph']\n"
     ]
    }
   ],
   "source": [
    "students = [\"roshini\",\"Abdul\",\"Kareem\",\"Joseph\"]\n",
    "print (students)"
   ]
  },
  {
   "cell_type": "markdown",
   "id": "755b782d-e807-4491-a36e-074f24e417f0",
   "metadata": {},
   "source": [
    "print(students[1])"
   ]
  },
  {
   "cell_type": "code",
   "execution_count": 10,
   "id": "91598e28-333a-4955-82d0-4cb14169946c",
   "metadata": {},
   "outputs": [
    {
     "name": "stdout",
     "output_type": "stream",
     "text": [
      "Joseph\n"
     ]
    }
   ],
   "source": [
    "students = [\"roshini\",\"Abdul\",\"Kareem\",\"Joseph\"]\n",
    "print (students[3].title())"
   ]
  },
  {
   "cell_type": "code",
   "execution_count": 12,
   "id": "18bcabba-3d07-4ae9-bbf5-03565b6a1e5a",
   "metadata": {},
   "outputs": [],
   "source": [
    "# How to add new elements to the list\n",
    "# how to modify the elements in the list\n",
    "# how to delete the elements in the list\n",
    "    "
   ]
  },
  {
   "cell_type": "code",
   "execution_count": 14,
   "id": "06df2803-5110-457b-9703-15394339210a",
   "metadata": {},
   "outputs": [],
   "source": [
    "# add new name to the list"
   ]
  },
  {
   "cell_type": "code",
   "execution_count": 16,
   "id": "c6c7e76f-c0a0-4ad2-ac15-c6f38bc95c8b",
   "metadata": {},
   "outputs": [],
   "source": [
    "students.append('Jadhav')"
   ]
  },
  {
   "cell_type": "code",
   "execution_count": 18,
   "id": "48aeca4b-c3c5-4a6b-9cdc-e64631080c14",
   "metadata": {},
   "outputs": [
    {
     "name": "stdout",
     "output_type": "stream",
     "text": [
      "['roshini', 'Abdul', 'Kareem', 'Joseph', 'Jadhav']\n"
     ]
    }
   ],
   "source": [
    "print (students)\n"
   ]
  },
  {
   "cell_type": "code",
   "execution_count": 20,
   "id": "42f69903-9795-4fd5-99b3-69e425c19ec8",
   "metadata": {},
   "outputs": [
    {
     "name": "stdout",
     "output_type": "stream",
     "text": [
      "['roshini', 'Abdul', 'Kareem', 'Joseph', 'Jadhav', 'Karthik']\n"
     ]
    }
   ],
   "source": [
    "students.append('Karthik')\n",
    "print(students)"
   ]
  },
  {
   "cell_type": "code",
   "execution_count": 22,
   "id": "68f4b3f0-052f-4d47-bba6-003675a490b7",
   "metadata": {},
   "outputs": [
    {
     "name": "stdout",
     "output_type": "stream",
     "text": [
      "['roshini', 'Abdul', 'Rakesh', 'Kareem', 'Joseph', 'Jadhav', 'Karthik']\n"
     ]
    }
   ],
   "source": [
    "##when new elements are added to the list, it is added at the end of the list\n",
    "## using insert method , we can insert into a given position\n",
    "students.insert(2,'Rakesh')\n",
    "print(students)"
   ]
  },
  {
   "cell_type": "code",
   "execution_count": 24,
   "id": "108eb725-7997-40e4-a7f9-9e70cbbb88bc",
   "metadata": {},
   "outputs": [],
   "source": [
    "### How to modify elements in a list"
   ]
  },
  {
   "cell_type": "code",
   "execution_count": 26,
   "id": "3511e9b5-2715-4f9a-873a-53fb6b143f8f",
   "metadata": {},
   "outputs": [
    {
     "name": "stdout",
     "output_type": "stream",
     "text": [
      "['roshini', 'Naveena', 'Abdul', 'Rakesh', 'Kareem', 'Joseph', 'Jadhav', 'Karthik']\n"
     ]
    }
   ],
   "source": [
    "students.insert(1,'Naveena')\n",
    "print(students)"
   ]
  },
  {
   "cell_type": "code",
   "execution_count": 30,
   "id": "ba3d0003-d7e9-4902-8882-8c1f980ea805",
   "metadata": {},
   "outputs": [
    {
     "name": "stdout",
     "output_type": "stream",
     "text": [
      "['roshini', 'Suresh', 'Abdul', 'Rakesh', 'Kareem', 'Joseph', 'Jadhav', 'Karthik']\n"
     ]
    }
   ],
   "source": [
    "students[1]='Suresh'\n",
    "print(students)"
   ]
  },
  {
   "cell_type": "code",
   "execution_count": 32,
   "id": "c4a624d9-6c14-4b4a-850c-26b61ccf4d82",
   "metadata": {},
   "outputs": [],
   "source": [
    "### by assigning value to the list and specific index id , the element can be replaced\n"
   ]
  },
  {
   "cell_type": "code",
   "execution_count": 34,
   "id": "ed0ae8fe-27fa-481d-9b43-16443872eaa7",
   "metadata": {},
   "outputs": [
    {
     "name": "stdout",
     "output_type": "stream",
     "text": [
      "['Suresh', 'Abdul', 'Rakesh', 'Kareem', 'Joseph', 'Jadhav', 'Karthik']\n"
     ]
    }
   ],
   "source": [
    "del students[0]\n",
    "print (students)"
   ]
  },
  {
   "cell_type": "code",
   "execution_count": 36,
   "id": "cd645863-11c2-474d-9544-847c7961590b",
   "metadata": {},
   "outputs": [
    {
     "name": "stdout",
     "output_type": "stream",
     "text": [
      "['Suresh', 'Abdul', 'Rakesh', 'Kareem', 'Joseph', 'Jadhav']\n"
     ]
    }
   ],
   "source": [
    "### pop method is a temporary delete and it deletes the last element of the list\n",
    "x = students.pop()\n",
    "print (students)"
   ]
  },
  {
   "cell_type": "code",
   "execution_count": 40,
   "id": "537e8d33-c731-4343-b796-93130bd9c2da",
   "metadata": {},
   "outputs": [
    {
     "name": "stdout",
     "output_type": "stream",
     "text": [
      "['Abdul', 'Rakesh', 'Kareem', 'Joseph', 'Jadhav']\n"
     ]
    }
   ],
   "source": [
    "a = students.pop(0)\n",
    "\n",
    "print(students)"
   ]
  },
  {
   "cell_type": "code",
   "execution_count": 42,
   "id": "67d46000-443c-4910-ad2c-bcc841da4a4c",
   "metadata": {},
   "outputs": [
    {
     "name": "stdout",
     "output_type": "stream",
     "text": [
      "Suresh\n"
     ]
    }
   ],
   "source": [
    "## Above eg we can pop specific values\n",
    "print (a)"
   ]
  },
  {
   "cell_type": "code",
   "execution_count": 46,
   "id": "8b8bee9e-e5e2-477f-b46a-4dafa37bdc77",
   "metadata": {},
   "outputs": [
    {
     "name": "stdout",
     "output_type": "stream",
     "text": [
      "<built-in method count of list object at 0x0000026BD5969E80>\n"
     ]
    }
   ],
   "source": [
    "print(students.count)"
   ]
  },
  {
   "cell_type": "code",
   "execution_count": null,
   "id": "787206c1-5eeb-4147-a314-b8686bcf9193",
   "metadata": {},
   "outputs": [],
   "source": []
  }
 ],
 "metadata": {
  "kernelspec": {
   "display_name": "Python 3 (ipykernel)",
   "language": "python",
   "name": "python3"
  },
  "language_info": {
   "codemirror_mode": {
    "name": "ipython",
    "version": 3
   },
   "file_extension": ".py",
   "mimetype": "text/x-python",
   "name": "python",
   "nbconvert_exporter": "python",
   "pygments_lexer": "ipython3",
   "version": "3.11.7"
  }
 },
 "nbformat": 4,
 "nbformat_minor": 5
}
