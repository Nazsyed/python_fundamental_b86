{
 "cells": [
  {
   "cell_type": "code",
   "execution_count": 1,
   "id": "e03eb913-fa88-4c07-b38c-ae4e151f7e1b",
   "metadata": {},
   "outputs": [
    {
     "name": "stdout",
     "output_type": "stream",
     "text": [
      "['maruti', 'bmw', 'toyota', 'mercedes']\n"
     ]
    }
   ],
   "source": [
    "cars = [ \"maruti\",\"bmw\",\"toyota\",\"mercedes\"]\n",
    "print(cars)"
   ]
  },
  {
   "cell_type": "code",
   "execution_count": 3,
   "id": "3d9b8202-f2e2-4a58-96da-be5de19bd577",
   "metadata": {},
   "outputs": [
    {
     "name": "stdout",
     "output_type": "stream",
     "text": [
      "None\n"
     ]
    }
   ],
   "source": [
    "print(cars.sort())"
   ]
  },
  {
   "cell_type": "code",
   "execution_count": 7,
   "id": "cd2d28ec-3fc0-4f2e-b8a1-49999e15d472",
   "metadata": {},
   "outputs": [],
   "source": [
    "# sorting lists -\n",
    "# temporary approach - list is maintained in original order\n",
    "# permanent approach - list is sorted and changes are applied permanently\n"
   ]
  },
  {
   "cell_type": "code",
   "execution_count": 5,
   "id": "6bada258-d5b9-4235-9dcd-6b555abf413d",
   "metadata": {},
   "outputs": [
    {
     "name": "stdout",
     "output_type": "stream",
     "text": [
      "['bmw', 'maruti', 'mercedes', 'toyota']\n"
     ]
    }
   ],
   "source": [
    "print(sorted(cars))"
   ]
  },
  {
   "cell_type": "raw",
   "id": "5f94ca82-3e8c-458f-b359-9c1477443979",
   "metadata": {},
   "source": []
  },
  {
   "cell_type": "code",
   "execution_count": 9,
   "id": "a95ce6b3-d28b-4d1e-8992-dc6487eece47",
   "metadata": {},
   "outputs": [
    {
     "name": "stdout",
     "output_type": "stream",
     "text": [
      "['maruti', 'bmw', 'toyota', 'mercedes']\n"
     ]
    }
   ],
   "source": [
    "cars = [ \"maruti\",\"bmw\",\"toyota\",\"mercedes\"]\n",
    "print(cars)"
   ]
  },
  {
   "cell_type": "code",
   "execution_count": 11,
   "id": "8a9cebcd-7d0b-426e-8e55-9d55849cf06a",
   "metadata": {},
   "outputs": [],
   "source": [
    "cars.sort()"
   ]
  },
  {
   "cell_type": "code",
   "execution_count": 13,
   "id": "c64523a9-8d4a-4641-b718-020ae76b80cd",
   "metadata": {},
   "outputs": [
    {
     "name": "stdout",
     "output_type": "stream",
     "text": [
      "['bmw', 'maruti', 'mercedes', 'toyota']\n"
     ]
    }
   ],
   "source": [
    "print(cars)"
   ]
  },
  {
   "cell_type": "code",
   "execution_count": 15,
   "id": "5cdd20d6-15d2-4204-8043-f418f0725157",
   "metadata": {},
   "outputs": [],
   "source": [
    "cars.reverse()"
   ]
  },
  {
   "cell_type": "code",
   "execution_count": 17,
   "id": "2cf40f74-3c57-4788-b429-32d270314dd7",
   "metadata": {},
   "outputs": [
    {
     "name": "stdout",
     "output_type": "stream",
     "text": [
      "['toyota', 'mercedes', 'maruti', 'bmw']\n"
     ]
    }
   ],
   "source": [
    "print(cars)"
   ]
  },
  {
   "cell_type": "code",
   "execution_count": 19,
   "id": "bb4a9bde-70bb-4b9c-9f54-1dd0b1f6d321",
   "metadata": {},
   "outputs": [
    {
     "data": {
      "text/plain": [
       "list"
      ]
     },
     "execution_count": 19,
     "metadata": {},
     "output_type": "execute_result"
    }
   ],
   "source": [
    "type(cars)"
   ]
  },
  {
   "cell_type": "raw",
   "id": "2d12ac2a-bd06-4ac5-be8e-7207c764ff92",
   "metadata": {},
   "source": []
  },
  {
   "cell_type": "code",
   "execution_count": 25,
   "id": "64102178-4d46-4bc8-897e-db726137ba08",
   "metadata": {},
   "outputs": [
    {
     "name": "stdout",
     "output_type": "stream",
     "text": [
      "4\n"
     ]
    }
   ],
   "source": [
    "print(len(cars))"
   ]
  },
  {
   "cell_type": "code",
   "execution_count": null,
   "id": "1add4568-01b1-45ae-a9ca-45cb8db8f3dc",
   "metadata": {},
   "outputs": [],
   "source": []
  },
  {
   "cell_type": "code",
   "execution_count": null,
   "id": "368e6512-6ad7-4e43-8cef-7bc241822c19",
   "metadata": {},
   "outputs": [],
   "source": []
  },
  {
   "cell_type": "code",
   "execution_count": null,
   "id": "c120cc6b-5551-4145-80cd-9baa0449505b",
   "metadata": {},
   "outputs": [],
   "source": []
  }
 ],
 "metadata": {
  "kernelspec": {
   "display_name": "Python 3 (ipykernel)",
   "language": "python",
   "name": "python3"
  },
  "language_info": {
   "codemirror_mode": {
    "name": "ipython",
    "version": 3
   },
   "file_extension": ".py",
   "mimetype": "text/x-python",
   "name": "python",
   "nbconvert_exporter": "python",
   "pygments_lexer": "ipython3",
   "version": "3.11.7"
  }
 },
 "nbformat": 4,
 "nbformat_minor": 5
}
